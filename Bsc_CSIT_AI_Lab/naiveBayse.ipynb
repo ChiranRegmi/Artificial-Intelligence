{
 "cells": [
  {
   "cell_type": "code",
   "execution_count": 1,
   "id": "c84f9290",
   "metadata": {},
   "outputs": [
    {
     "name": "stdout",
     "output_type": "stream",
     "text": [
      "Sentence: I love this\n",
      "Prediction: yes\n"
     ]
    }
   ],
   "source": [
    "#Program to classify the text into \"Yes\" or \"No\" using  scikit-learn version of #Naive Bayes in Python.\n",
    "\n",
    "from sklearn.feature_extraction.text import CountVectorizer\n",
    "from sklearn.naive_bayes import MultinomialNB\n",
    "\n",
    "# Sample data\n",
    "texts = [\n",
    "    \"I love this\",\n",
    "    \"This is great\",\n",
    "    \"I hate this\",\n",
    "    \"This is bad\"\n",
    "]\n",
    "\n",
    "labels = [\"yes\", \"yes\", \"no\", \"no\"]\n",
    "\n",
    "# Convert text to feature matrix\n",
    "vectorizer = CountVectorizer()\n",
    "X = vectorizer.fit_transform(texts)\n",
    "\n",
    "# Create and train Naive Bayes model\n",
    "model = MultinomialNB()\n",
    "model.fit(X, labels)\n",
    "\n",
    "# Test a new sentence\n",
    "test_sentence = [\"I love this\"]\n",
    "X_test = vectorizer.transform(test_sentence)\n",
    "prediction = model.predict(X_test)\n",
    "\n",
    "print(\"Sentence:\", test_sentence[0])\n",
    "print(\"Prediction:\", prediction[0])\n"
   ]
  },
  {
   "cell_type": "code",
   "execution_count": null,
   "id": "0321d4f2",
   "metadata": {},
   "outputs": [],
   "source": []
  }
 ],
 "metadata": {
  "kernelspec": {
   "display_name": "Python 3 (ipykernel)",
   "language": "python",
   "name": "python3"
  },
  "language_info": {
   "codemirror_mode": {
    "name": "ipython",
    "version": 3
   },
   "file_extension": ".py",
   "mimetype": "text/x-python",
   "name": "python",
   "nbconvert_exporter": "python",
   "pygments_lexer": "ipython3",
   "version": "3.11.5"
  }
 },
 "nbformat": 4,
 "nbformat_minor": 5
}
